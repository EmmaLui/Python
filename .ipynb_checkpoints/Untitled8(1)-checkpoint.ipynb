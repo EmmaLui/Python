{
 "cells": [
  {
   "cell_type": "code",
   "execution_count": null,
   "metadata": {},
   "outputs": [
    {
     "data": {
      "text/html": [
       "        <script type=\"text/javascript\">\n",
       "        window.PlotlyConfig = {MathJaxConfig: 'local'};\n",
       "        if (window.MathJax) {MathJax.Hub.Config({SVG: {font: \"STIX-Web\"}});}\n",
       "        if (typeof require !== 'undefined') {\n",
       "        require.undef(\"plotly\");\n",
       "        requirejs.config({\n",
       "            paths: {\n",
       "                'plotly': ['https://cdn.plot.ly/plotly-latest.min']\n",
       "            }\n",
       "        });\n",
       "        require(['plotly'], function(Plotly) {\n",
       "            window._Plotly = Plotly;\n",
       "        });\n",
       "        }\n",
       "        </script>\n",
       "        "
      ]
     },
     "metadata": {},
     "output_type": "display_data"
    },
    {
     "name": "stdout",
     "output_type": "stream",
     "text": [
      " * Serving Flask app \"__main__\" (lazy loading)\n",
      " * Environment: production\n",
      "   WARNING: Do not use the development server in a production environment.\n",
      "   Use a production WSGI server instead.\n",
      " * Debug mode: on\n"
     ]
    },
    {
     "name": "stderr",
     "output_type": "stream",
     "text": [
      " * Running on http://127.0.0.1:8029/ (Press CTRL+C to quit)\n",
      "127.0.0.1 - - [03/Jan/2020 02:14:29] \"GET / HTTP/1.1\" 200 -\n",
      "127.0.0.1 - - [03/Jan/2020 02:14:32] \"GET /favicon.ico HTTP/1.1\" 404 -\n"
     ]
    },
    {
     "name": "stdout",
     "output_type": "stream",
     "text": [
      "影视传媒\n"
     ]
    },
    {
     "name": "stderr",
     "output_type": "stream",
     "text": [
      "127.0.0.1 - - [03/Jan/2020 02:14:41] \"POST /hurun HTTP/1.1\" 200 -\n"
     ]
    }
   ],
   "source": [
    "from flask import Flask, render_template, request\n",
    "import pandas as pd\n",
    "import cufflinks as cf\n",
    "import plotly as py\n",
    "import plotly.graph_objs as go\n",
    "from pyecharts import options as opts\n",
    "from pyecharts.charts import Line\n",
    "\n",
    "df1 = pd.read_csv(\"2019胡润品牌榜2.csv\",encoding = 'utf-8', delimiter=\"\\t\", error_bad_lines=False)\n",
    "app = Flask(__name__)\n",
    "\n",
    "# 准备工作\n",
    "\n",
    "regions_available = list(df1.trade.dropna().unique())\n",
    "# cf.set_config_file(offline=True, theme=\"ggplot\")\n",
    "# py.offline.init_notebook_mode()\n",
    "\n",
    "\n",
    "\n",
    "@app.route('/',methods=['GET'])\n",
    "def hu_run_2019():\n",
    "    data_str = df1.to_html()\n",
    "    return render_template('results2.html',\n",
    "                           the_res = data_str,\n",
    "                           the_select_region=regions_available)\n",
    "\n",
    "@app.route('/hurun',methods=['POST'])\n",
    "def hu_run_select() -> 'html':\n",
    "    the_region = request.form[\"the_region_selected\"]\n",
    "    print(the_region) # 检查用户输入\n",
    "    dfs = df1.query(\"trade=='{}'\".format(the_region))\n",
    "#     df_summary = dfs.groupby(\"行业\").agg({\"企业名称\":\"count\",\"估值（亿人民币）\":\"sum\",\"成立年份\":\"mean\"}).sort_values(by = \"企业名称\",ascending = False )\n",
    "#     print(df_summary.head(5)) # 在后台检查描述性统计\n",
    "#     ## user select\n",
    "    # print(dfs)\n",
    "#     # 交互式可视化画图\n",
    "    fig = dfs.iplot(kind=\"bar\", x=\"trade\",y=\"Chg\", asFigure=True)\n",
    "    py.offline.plot(fig, filename=\"example1.html\",auto_open=False)\n",
    "    with open(\"example1.html\", encoding=\"utf8\", mode=\"r\") as f:\n",
    "        plot_all = \"\".join(f.readlines())\n",
    "\n",
    "#     # plotly.offline.plot(data, filename='file.html')\n",
    "\t\n",
    "#     with open(\"render.html\", encoding=\"utf8\", mode=\"r\") as f:\n",
    "#         plot_all = \"\".join(f.readlines())\n",
    "\t\t\t\n",
    "    data_str = dfs.to_html()\n",
    "    return render_template('results2.html',\n",
    "                            the_plot_all = plot_all,\n",
    "\t\t\t\t\t\t\t# the_plot_all = [],\n",
    "                            the_res = data_str,\n",
    "                            the_select_region=regions_available,\n",
    "                           )\n",
    "\n",
    "\n",
    "\n",
    "\n",
    "if __name__ == '__main__':\n",
    "    app.run(debug=True,port=8029,use_reloader=False)"
   ]
  },
  {
   "cell_type": "code",
   "execution_count": null,
   "metadata": {},
   "outputs": [],
   "source": []
  }
 ],
 "metadata": {
  "kernelspec": {
   "display_name": "Python 3",
   "language": "python",
   "name": "python3"
  },
  "language_info": {
   "codemirror_mode": {
    "name": "ipython",
    "version": 3
   },
   "file_extension": ".py",
   "mimetype": "text/x-python",
   "name": "python",
   "nbconvert_exporter": "python",
   "pygments_lexer": "ipython3",
   "version": "3.7.3"
  }
 },
 "nbformat": 4,
 "nbformat_minor": 2
}
